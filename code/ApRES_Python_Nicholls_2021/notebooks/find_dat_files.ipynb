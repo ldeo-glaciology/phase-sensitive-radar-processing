{
 "cells": [
  {
   "cell_type": "markdown",
   "id": "90607b6c-6b67-4bf3-9760-c15dcf7473e3",
   "metadata": {},
   "source": [
    "# Find dat files"
   ]
  },
  {
   "cell_type": "code",
   "execution_count": 1,
   "id": "abe03d44-8115-48e7-bf8d-538f8ea6d3ff",
   "metadata": {},
   "outputs": [],
   "source": [
    "import glob"
   ]
  },
  {
   "cell_type": "code",
   "execution_count": 23,
   "id": "cfe5be75-d1e8-4a59-9c4a-5461a39976d7",
   "metadata": {},
   "outputs": [
    {
     "name": "stdout",
     "output_type": "stream",
     "text": [
      "/Users/jkingslake/Documents/data/ApRES_greenland/resursive_test/anotherDATfile.DAT\n",
      "/Users/jkingslake/Documents/data/ApRES_greenland/resursive_test/one_unit/one_directory/DATA2022-09-22-2220.DAT\n",
      "/Users/jkingslake/Documents/data/ApRES_greenland/resursive_test/one_unit/second_directory/DATA2022-05-26-1536.DAT\n"
     ]
    }
   ],
   "source": [
    "for filename in glob.iglob('/Users/jkingslake/Documents/data/ApRES_greenland/resursive_test/**/*.DAT',\n",
    "                           recursive = True):\n",
    "    print(filename)"
   ]
  },
  {
   "cell_type": "code",
   "execution_count": null,
   "id": "749d26b7-1e73-4d97-8b5b-63e1d72c95ef",
   "metadata": {},
   "outputs": [],
   "source": []
  }
 ],
 "metadata": {
  "kernelspec": {
   "display_name": "Python 3",
   "language": "python",
   "name": "python3"
  },
  "language_info": {
   "codemirror_mode": {
    "name": "ipython",
    "version": 3
   },
   "file_extension": ".py",
   "mimetype": "text/x-python",
   "name": "python",
   "nbconvert_exporter": "python",
   "pygments_lexer": "ipython3",
   "version": "3.10.6"
  }
 },
 "nbformat": 4,
 "nbformat_minor": 5
}
